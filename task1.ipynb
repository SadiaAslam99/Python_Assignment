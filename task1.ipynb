{
 "cells": [
  {
   "cell_type": "code",
   "execution_count": 1,
   "metadata": {},
   "outputs": [
    {
     "name": "stdout",
     "output_type": "stream",
     "text": [
      "Welcome to Rock-Paper-Scissors!\n",
      "\n",
      "You chose: rock\n",
      "Computer chose: scissors\n",
      "You win!\n",
      "\n",
      "You chose: paper\n",
      "Computer chose: paper\n",
      "It's a tie!\n",
      "Invalid choice. Please try again.\n",
      "\n",
      "You chose: scissors\n",
      "Computer chose: rock\n",
      "Computer wins!\n",
      "Thanks for playing! Goodbye!\n"
     ]
    }
   ],
   "source": [
    "# Rock, Paper, Scissors Game \n",
    "import random\n",
    "\n",
    "# define function for user\n",
    "def get_user_choice(): \n",
    "    while True:   # use while loop and choose boolean function\n",
    "        user_choice = input(\"Enter your choice (rock, paper, or scissors): \").lower()  # choices for user\n",
    "        if user_choice in ['rock', 'paper', 'scissors']:    # choose one from these\n",
    "            return user_choice\n",
    "        else:\n",
    "            print(\"Invalid choice. Please try again.\")\n",
    "\n",
    "# define function for computer\n",
    "def get_computer_choice():\n",
    "    choices = ['rock', 'paper', 'scissors'] # choices for computer \n",
    "    return random.choice(choices) # computer randomly choose one choice \n",
    "\n",
    "# define the game and determine which one is winner user, computer or its a draw \n",
    "def determine_winner(user_choice, computer_choice):\n",
    "    if user_choice == computer_choice:\n",
    "        return \"It's a draw!\"\n",
    "    elif (user_choice == 'rock' and computer_choice == 'scissors') or \\\n",
    "         (user_choice == 'paper' and computer_choice == 'rock') or \\\n",
    "         (user_choice == 'scissors' and computer_choice == 'paper'):\n",
    "        return \"You win!\"\n",
    "    else:\n",
    "        return \"Computer wins!\"\n",
    "\n",
    "def play_game():\n",
    "    print(\"Welcome to Rock-Paper-Scissors!\")\n",
    "    while True:\n",
    "        user_choice = get_user_choice()\n",
    "        computer_choice = get_computer_choice()\n",
    "\n",
    "        print(f\"\\nYou chose: {user_choice}\")\n",
    "        print(f\"Computer chose: {computer_choice}\")\n",
    "\n",
    "        result = determine_winner(user_choice, computer_choice)\n",
    "        print(result)\n",
    "\n",
    "        play_again = input(\"Do you want to play again? (yes/no): \").lower()\n",
    "        if play_again != 'yes':\n",
    "            print(\"Thanks for playing! Goodbye!\")\n",
    "            break\n",
    "\n",
    "if __name__ == \"__main__\":\n",
    "    play_game()\n"
   ]
  }
 ],
 "metadata": {
  "kernelspec": {
   "display_name": "Python 3",
   "language": "python",
   "name": "python3"
  },
  "language_info": {
   "codemirror_mode": {
    "name": "ipython",
    "version": 3
   },
   "file_extension": ".py",
   "mimetype": "text/x-python",
   "name": "python",
   "nbconvert_exporter": "python",
   "pygments_lexer": "ipython3",
   "version": "3.11.4"
  },
  "orig_nbformat": 4
 },
 "nbformat": 4,
 "nbformat_minor": 2
}
